{
 "cells": [
  {
   "cell_type": "markdown",
   "metadata": {
    "collapsed": true,
    "pycharm": {
     "is_executing": false,
     "name": "#%% md\n"
    }
   },
   "source": [
    "**Assignment 1 NUMA41**\n",
    "\n",
    "By mdu & max\n",
    "\n",
    "**Problem 1**\n",
    "\n",
    "Determine a polynomial $p$ of degree smaller or equal to three that fulfills $p(-1) = 2$ ,\n",
    "$p(0) = 6$ , $p(2) = 4$ and $p(3) = 30$ in\n",
    "\n",
    "**a)** the Lagrange basis\n",
    "\n",
    "The desired result is $$p(x)=\\sum_{k=0}^3L_k^3(x)y_k,$$ where the $y_k$'s are the function values given at the interpolation\n",
    "points, and $L_k^n=\\prod_{j=0, j\\neq k}^n\\frac{x-x_j}{x_k-x_j}$, $n=3$. So all that is left to do is find the \n",
    "Lagrange basis functions:\n",
    "\n",
    "$L_0^3(x)=\\frac{x}{-1}\\frac{x-2}{-1-2}\\frac{x-3}{-1-3}=\\frac{-x}{12}(x-2)(x-3)$\n",
    "\n",
    "$L_1^3(x)=\\frac{x+1}{1}\\frac{x-2}{-2}\\frac{x-3}{-3}=\\frac{1}{6}(x+1)(x-2)(x-3)$\n",
    "\n",
    "$L_2^3(x)=\\frac{x+1}{3}\\frac{x}{2}\\frac{x-3}{-1}=\\frac{-x}{6}(x+1)(x-3)$\n",
    "\n",
    "$L_3^3(x)=\\frac{x+1}{4}\\frac{x}{3}\\frac{x-2}{1}=\\frac{x}{12}(x+1)(x-2)$\n",
    "\n",
    "Now, the interpolation polynomial in the Lagrange basis is:\n",
    "$$p(x)=\\frac{-x}{12}(x-2)(x-3)\\cdot2+\\frac{1}{6}(x+1)(x-2)(x-3)\\cdot6+\\frac{-x}{6}(x+1)(x-3)\\cdot4+\\frac{x}{12}(x+1)(x-2)\\cdot30$$\n",
    "\n",
    "**b)** the Newton basis\n",
    "\n",
    "The desired result is $$p(x)=\\sum_{i=0}^3a_in_i(x),$$ where $$n_i(x)=\\prod_{j=0}^{i-1}(x-x_j),$$ and the $a_i$'s are the \n",
    "divided differences. \n",
    "\n",
    "First we calculate the divided differences as such:"
   ]
  },
  {
   "cell_type": "code",
   "execution_count": 5,
   "metadata": {
    "pycharm": {
     "is_executing": false,
     "name": "#%%\n"
    }
   },
   "outputs": [
    {
     "name": "stdout",
     "output_type": "stream",
     "text": [
      "[ 2.          4.         -1.66666667  2.66666667]\n"
     ]
    }
   ],
   "source": [
    "import numpy as np\n",
    "import matplotlib.pyplot as plt\n",
    "def divdif(x,y):\n",
    "    n = len(y)\n",
    "    mat = np.zeros((n,n))\n",
    "    mat[:,0]=y\n",
    "    for j in range(1,n):\n",
    "        for k in range(n-j): \n",
    "            mat[k][j] = (mat[k+1][j-1]-mat[k][j-1])/(x[k+j]-x[k])\n",
    "    return mat\n",
    "\n",
    "X=[-1,0,2,3]\n",
    "Y=[2,6,4,30]\n",
    "\n",
    "print(divdif(X,Y)[0])"
   ]
  },
  {
   "cell_type": "markdown",
   "metadata": {
    "pycharm": {
     "name": "#%% md\n"
    }
   },
   "source": [
    "So $(a_0,a_1,a_2,a_3)=(2,4,-5/3,8/3)$, thus we can write the interpolation in the Newton basis:\n",
    "\n",
    "$$p(x)=2+4\\cdot(x+1)-\\frac{5}{3}(x+1)x+\\frac{8}{3}(x+1)x(x-2).$$ \n",
    "\n",
    "**Problem 2**\n",
    "\n",
    "Prove the following theorem:\n",
    "\n",
    "Given $n+1$ data points $(t_i,\\ y_i)$ with mutually different $t_i$ , there is a unique polynomial\n",
    "$p \\in \\mathcal{P}_n$ of degree $n$ which solves the interpolation problem\n",
    "\n",
    "$$p(t_i)=y_i, \\ i=0,...,n.$$\n",
    "\n",
    "This proof consists of 2 elements, proving the existence and uniqueness of such a polynomial, the existence is really \n",
    "no surprise, this is given through our derivation of the Lagrange and Newton interpolation techniques. \n",
    "\n",
    "To prove uniqueness of the polynomial $p(x)$, assume there exists a polynomial $q(x)$ distinct from $p(x)$, that also \n",
    "solves the interpolation problem, i.e. $p(t_i)=y_i=q(t_i)$ and $p(x)\\neq q(x)$. Both polynomials are of degree $n$\n",
    "and therefore has $n$ roots. Polynomials form a linear space, and thus $p(x)-q(x)\\in\\mathcal{P}_n$, however,\n",
    "it also holds that $p(t_i)-q(t_i)=0$, meaning the difference polynomial has $n+1$ roots, thus we have a contradiction.\n",
    "$p(x)$ and $q(x)$ must be identical, uniqueness is shown.\n",
    "\n",
    "**Problem 3**\n",
    "\n",
    "Write a python program that plots a given function and an interpolation polynomial. \n",
    "To test this, use the following cases:\n",
    "\n",
    "a) $f(t) = \\exp(-4x^2)$, $t\\in[-1,1]$. As data, use equidistant nodes that include the endpoints\n",
    "and the function values in those nodes. The number of nodes should be $5$, then $12$.\n",
    "\n",
    "b) $f(t) = \\frac{1}{1+25x^2}$, $t\\in[-1,1]$. As data, use equidistant nodes that include the endpoints\n",
    "and the function values in those nodes. The number of nodes should be $15$, then $21$.\n",
    "\n",
    "What do you see?"
   ]
  },
  {
   "cell_type": "code",
   "execution_count": 6,
   "metadata": {
    "pycharm": {
     "is_executing": false,
     "name": "#%%\n"
    }
   },
   "outputs": [
    {
     "data": {
      "image/png": "[encoded data removed]",
      "text/plain": [
       "<Figure size 432x288 with 2 Axes>"
      ]
     },
     "metadata": {
      "needs_background": "light"
     },
     "output_type": "display_data"
    }
   ],
   "source": [
    "import numpy as np\n",
    "import matplotlib.pyplot as plt\n",
    "\n",
    "#Newton interpolation, uses divdif as defined above\n",
    "def Ninterp(x,f,a,b,n):\n",
    "    X = np.linspace(a, b, n)\n",
    "    Y = f(X)\n",
    "    A = divdif(X,Y)[0]\n",
    "    p = A[0]\n",
    "    for i in range(1,n):\n",
    "        n=1\n",
    "        for j in range(0,i):\n",
    "            n=n*(x-X[j])\n",
    "        p+=n*A[i]\n",
    "    return p\n",
    "##endpoints and interval\n",
    "a = -1\n",
    "b = 1\n",
    "X1 = np.linspace(a,b,500)\n",
    "\n",
    "def f1(x):\n",
    "    return np.exp(-4*x**2)\n",
    "\n",
    "def intf1(x,n):\n",
    "    return Ninterp(x,f1,a,b,n)\n",
    "\n",
    "def g1(x):\n",
    "    return 1/(1+25*x**2)\n",
    "\n",
    "def intg1(x,n):\n",
    "    return Ninterp(x,g1,a,b,n)\n",
    "\n",
    "plt.subplot(2,1,1)\n",
    "plt.plot(X1,intf1(X1,5), \"r\", label=\"Int n=5\")\n",
    "plt.plot(X1,intf1(X1,12), \"b.\", label=\"Int n=12\")\n",
    "plt.plot(X1,f1(X1), \"g\", label=\"y=e^(-4x^2)\")\n",
    "plt.legend()\n",
    "plt.subplot(2,1,2)\n",
    "plt.plot(X1,intg1(X1,15), \"r\", label=\"Int n=15\")\n",
    "plt.plot(X1,intg1(X1,21), \"b.\", label=\"Int n=21\")\n",
    "plt.plot(X1,g1(X1), \"g\", label=\"y=1/(1+25x^2)\")\n",
    "plt.legend()\n",
    "plt.show()"
   ]
  },
  {
   "cell_type": "markdown",
   "metadata": {},
   "source": [
    "We see different results of increasing order for the first and second function. \n",
    "For the first function it is clear that increasing $n$ from $5$ to $12$ makes the interpolation function a better fit. \n",
    "\n",
    "The opposite is true for the last function, here increasing $n$ from $15$ to $21$ increases the interpolation error near\n",
    "the endpoints of the interval.\n",
    "\n",
    "Interestingly, the increasing error doesn't seem to occur around the radius of convergence for the power series expansion\n",
    "of the function, namely near $\\frac{-1}{5}$ and $\\frac{1}{5}$, so something else is at play.\n",
    "\n"
   ]
  }
 ],
 "metadata": {
  "kernelspec": {
   "display_name": "Python 3",
   "language": "python",
   "name": "python3"
  },
  "language_info": {
   "codemirror_mode": {
    "name": "ipython",
    "version": 3
   },
   "file_extension": ".py",
   "mimetype": "text/x-python",
   "name": "python",
   "nbconvert_exporter": "python",
   "pygments_lexer": "ipython3",
   "version": "3.7.6"
  },
  "pycharm": {
   "stem_cell": {
    "cell_type": "raw",
    "metadata": {
     "collapsed": false
    },
    "source": []
   }
  }
 },
 "nbformat": 4,
 "nbformat_minor": 1
}
